{
  "nbformat": 4,
  "nbformat_minor": 0,
  "metadata": {
    "colab": {
      "provenance": []
    },
    "kernelspec": {
      "name": "python3",
      "display_name": "Python 3"
    },
    "language_info": {
      "name": "python"
    }
  },
  "cells": [
    {
      "cell_type": "code",
      "execution_count": 30,
      "metadata": {
        "colab": {
          "base_uri": "https://localhost:8080/"
        },
        "id": "nBJYk8FTlHKh",
        "outputId": "d06a783d-80df-40b2-e688-fbd489a1cef5"
      },
      "outputs": [
        {
          "output_type": "execute_result",
          "data": {
            "text/plain": [
              "<bound method NDFrame.head of                           name Name2  number parkprop    borough  \\\n",
              "0            Quinn, Matthew D.   NaN    1308        N     Queens   \n",
              "1         Conway, Frank Tablet   NaN     327        N  the Bronx   \n",
              "2                    Cigarette   NaN    1937        N  Manhattan   \n",
              "3                   Philosophy   NaN    1181        O  Manhattan   \n",
              "4           Giuseppe Garibaldi   NaN     571        Y  Manhattan   \n",
              "...                        ...   ...     ...      ...        ...   \n",
              "1873     Lincoln, Abraham Bust   NaN     915        N  Manhattan   \n",
              "1874            Peace Form One   NaN     195        Y  Manhattan   \n",
              "1875        Bernard S. Deutsch   NaN     384        Y  the Bronx   \n",
              "1876       East Coast Memorial   NaN    1929        Y  Manhattan   \n",
              "1877  Marble Hill War Memorial   NaN     972        N  Manhattan   \n",
              "\n",
              "                    parkname parknumber  commboard  council  \\\n",
              "0                        NaN        NaN        0.0      0.0   \n",
              "1                        NaN        NaN        0.0      0.0   \n",
              "2                        NaN        NaN        5.0      3.0   \n",
              "3                Bryant Park       M008        5.0      3.0   \n",
              "4     Washington Square Park       M098        2.0      1.0   \n",
              "...                      ...        ...        ...      ...   \n",
              "1873                     NaN        NaN        9.0      7.0   \n",
              "1874    Ralph J. Bunche Park      M203B        6.0      4.0   \n",
              "1875       Henry Hudson Park       X080        8.0     11.0   \n",
              "1876            Battery Park       M005        1.0      1.0   \n",
              "1877                     NaN        NaN        8.0     10.0   \n",
              "\n",
              "                                               Location  ...  \\\n",
              "0       LONG ISLAND CITY; academy st. near grand Avenue  ...   \n",
              "1                                                   NaN  ...   \n",
              "2         The Museum of Modern Art, 11 West 53rd Street  ...   \n",
              "3      New York Public Library; 42nd St. and 5th Avenue  ...   \n",
              "4                                                   NaN  ...   \n",
              "...                                                 ...  ...   \n",
              "1873  COLLEGE OF THE CITY OF NEW YORK; 137th to 140t...  ...   \n",
              "1874                        First Avenue at 43rd Street  ...   \n",
              "1875                                                NaN  ...   \n",
              "1876         South end of park, east of Dewey Promenade  ...   \n",
              "1877  ST.STEPHENS METH,EPISC,CH.1897; 228th st and m...  ...   \n",
              "\n",
              "                                 donor contractor MaintainedByParks  \\\n",
              "0                           gift. $405        NaN               NaN   \n",
              "1                                  NaN        NaN               NaN   \n",
              "2                 Museum of Modern Art        NaN               NaN   \n",
              "3                             purchase        NaN               NaN   \n",
              "4                    Italian-Americans        NaN               Yes   \n",
              "...                                ...        ...               ...   \n",
              "1873     class of 1910; gutzom borglum        NaN               NaN   \n",
              "1874                Phelps-Stokes Fund        NaN               Yes   \n",
              "1875  Gift of Jewish American Congress        NaN               NaN   \n",
              "1876                               NaN        NaN               Yes   \n",
              "1877  marble hill honor roll committee        NaN               NaN   \n",
              "\n",
              "     Installation Rededication Cost                               Categories  \\\n",
              "0             NaN          NaN  NaN                                      NaN   \n",
              "1             NaN          NaN  NaN                                      NaN   \n",
              "2             NaN          NaN  NaN                                      NaN   \n",
              "3             NaN          NaN  NaN                                      NaN   \n",
              "4             NaN          NaN  NaN                          Politcal Figure   \n",
              "...           ...          ...  ...                                      ...   \n",
              "1873          NaN          NaN  NaN                                      NaN   \n",
              "1874          NaN          NaN  NaN  Sculpture, Public Servant, Civic Leader   \n",
              "1875          NaN          NaN  NaN          Public Servant, Politcal Figure   \n",
              "1876          NaN          NaN  NaN               War Memorial, World War II   \n",
              "1877          NaN          NaN  NaN               War Memorial, World War II   \n",
              "\n",
              "     inscribed              X              Y  \n",
              "0          NaN            NaN            NaN  \n",
              "1          NaN            NaN            NaN  \n",
              "2          NaN            NaN            NaN  \n",
              "3          NaN            NaN            NaN  \n",
              "4          NaN  985120.016293  205443.463835  \n",
              "...        ...            ...            ...  \n",
              "1873       NaN            NaN            NaN  \n",
              "1874       NaN  992671.718381  212340.749253  \n",
              "1875       NaN            NaN            NaN  \n",
              "1876       NaN  979858.683639  195090.320499  \n",
              "1877       NaN            NaN            NaN  \n",
              "\n",
              "[1878 rows x 31 columns]>"
            ]
          },
          "metadata": {},
          "execution_count": 30
        }
      ],
      "source": [
        "#read data from OpenRefine\n",
        "import pandas as pd\n",
        "\n",
        "big_data_filepath = '/content/NYC-Parks-Monuments-cleaned.csv'\n",
        "\n",
        "monument_data = pd.read_csv(big_data_filepath)\n",
        "\n",
        "monument_data.head"
      ]
    },
    {
      "cell_type": "code",
      "source": [
        "#getting the columns in the dataset\n",
        "\n",
        "monument_data.columns"
      ],
      "metadata": {
        "colab": {
          "base_uri": "https://localhost:8080/"
        },
        "id": "UUSl1D6AmHBm",
        "outputId": "f3e9b418-afdb-4e6c-ed6f-19b5b5103752"
      },
      "execution_count": 31,
      "outputs": [
        {
          "output_type": "execute_result",
          "data": {
            "text/plain": [
              "Index(['name', 'Name2', 'number', 'parkprop', 'borough', 'parkname',\n",
              "       'parknumber', 'commboard', 'council', 'Location', 'extant', 'dedicated',\n",
              "       'cast', 'descrip', 'dimen', 'sponsor', 'materials', 'foundry',\n",
              "       'fabricator', 'sculptor', 'architect', 'donor', 'contractor',\n",
              "       'MaintainedByParks', 'Installation', 'Rededication', 'Cost',\n",
              "       'Categories', 'inscribed', 'X', 'Y'],\n",
              "      dtype='object')"
            ]
          },
          "metadata": {},
          "execution_count": 31
        }
      ]
    },
    {
      "cell_type": "code",
      "source": [
        "#Get data of the monuments in the boroughs\n",
        "\n",
        "monument_data.borough"
      ],
      "metadata": {
        "colab": {
          "base_uri": "https://localhost:8080/"
        },
        "id": "Q2_7jg2zmjgD",
        "outputId": "6ddd5c6c-09ce-4a03-9eb2-8434c058bb44"
      },
      "execution_count": 32,
      "outputs": [
        {
          "output_type": "execute_result",
          "data": {
            "text/plain": [
              "0          Queens\n",
              "1       the Bronx\n",
              "2       Manhattan\n",
              "3       Manhattan\n",
              "4       Manhattan\n",
              "          ...    \n",
              "1873    Manhattan\n",
              "1874    Manhattan\n",
              "1875    the Bronx\n",
              "1876    Manhattan\n",
              "1877    Manhattan\n",
              "Name: borough, Length: 1878, dtype: object"
            ]
          },
          "metadata": {},
          "execution_count": 32
        }
      ]
    },
    {
      "cell_type": "code",
      "source": [
        "#Get all the values of the boroughs\n",
        "\n",
        "monument_boroughs = monument_data.borough\n",
        "\n",
        "for borough in monument_boroughs.iteritems():\n",
        "  print(borough[1])"
      ],
      "metadata": {
        "id": "78c29YY2mx4D"
      },
      "execution_count": null,
      "outputs": []
    },
    {
      "cell_type": "code",
      "source": [
        "#Get the count of the number of monuments in those boroughs, in ascending order\n",
        "borough_count_ascend = monument_data.borough.value_counts(ascending = True)\n",
        "borough_count_ascend\n",
        "\n"
      ],
      "metadata": {
        "colab": {
          "base_uri": "https://localhost:8080/"
        },
        "id": "1uqr1WzRnRMW",
        "outputId": "1b2bdb92-bc57-4005-e8c3-e4bbfebaecb5"
      },
      "execution_count": 44,
      "outputs": [
        {
          "output_type": "execute_result",
          "data": {
            "text/plain": [
              "Staten Island     96\n",
              "the Bronx        223\n",
              "Queens           257\n",
              "Brooklyn         354\n",
              "Manhattan        944\n",
              "Name: borough, dtype: int64"
            ]
          },
          "metadata": {},
          "execution_count": 44
        }
      ]
    },
    {
      "cell_type": "code",
      "source": [
        "new_data = monument_data.borough.value_counts()\n",
        "\n",
        "new_data"
      ],
      "metadata": {
        "colab": {
          "base_uri": "https://localhost:8080/"
        },
        "id": "GNvgTMqnz6ie",
        "outputId": "abbb6cbb-e26a-451e-b62d-f6c6685b93d6"
      },
      "execution_count": 47,
      "outputs": [
        {
          "output_type": "execute_result",
          "data": {
            "text/plain": [
              "Manhattan        944\n",
              "Brooklyn         354\n",
              "Queens           257\n",
              "the Bronx        223\n",
              "Staten Island     96\n",
              "Name: borough, dtype: int64"
            ]
          },
          "metadata": {},
          "execution_count": 47
        }
      ]
    },
    {
      "cell_type": "code",
      "source": [
        "from matplotlib import pyplot as plt_boroughs\n",
        "\n",
        "new_data = monument_data.borough.value_counts()\n",
        "\n",
        "new_data\n",
        "names_list = []\n",
        "counts_list = []\n",
        "\n",
        "for values in new_data.iteritems():\n",
        "  names = values[0]\n",
        "  counts = values[1]\n",
        "\n",
        "  names_list.append(names)\n",
        "  counts_list.append(counts)\n",
        "\n",
        "\n"
      ],
      "metadata": {
        "id": "rgrOh-pZu9XM"
      },
      "execution_count": 50,
      "outputs": []
    },
    {
      "cell_type": "code",
      "source": [
        "names_list"
      ],
      "metadata": {
        "colab": {
          "base_uri": "https://localhost:8080/"
        },
        "id": "eP3uFs6w0KIL",
        "outputId": "cdec99be-ef64-4a4f-fdce-adaf0e83c13a"
      },
      "execution_count": 51,
      "outputs": [
        {
          "output_type": "execute_result",
          "data": {
            "text/plain": [
              "['Manhattan', 'Brooklyn', 'Queens', 'the Bronx', 'Staten Island']"
            ]
          },
          "metadata": {},
          "execution_count": 51
        }
      ]
    },
    {
      "cell_type": "code",
      "source": [
        "counts_list"
      ],
      "metadata": {
        "colab": {
          "base_uri": "https://localhost:8080/"
        },
        "id": "Npf3Pm-K0MeA",
        "outputId": "25dcccf0-9e37-4df1-c291-632eca45af4e"
      },
      "execution_count": 52,
      "outputs": [
        {
          "output_type": "execute_result",
          "data": {
            "text/plain": [
              "[944, 354, 257, 223, 96]"
            ]
          },
          "metadata": {},
          "execution_count": 52
        }
      ]
    },
    {
      "cell_type": "code",
      "source": [
        "#Creating a graph, plotting the data base on the density of monuments in each borough in New York\n",
        "\n",
        "from matplotlib import pyplot as plt_boroughs\n",
        "\n",
        "plt_boroughs.bar(names_list, counts_list)\n",
        "plt_boroughs.style.use('seaborn')\n",
        "plt_boroughs.title(\"Density of Monuments in each NYC Borough\")\n",
        "plt_boroughs.xlabel(\"Names of the Boroughs\")\n",
        "plt_boroughs.ylabel(\"Number of Monuments\")\n",
        "plt_boroughs.savefig('Density of Monuments in each NYC Borough.png')"
      ],
      "metadata": {
        "colab": {
          "base_uri": "https://localhost:8080/",
          "height": 376
        },
        "id": "KVPT8hhMn43J",
        "outputId": "647ba8cd-8924-4cb2-f49f-d6d46d932ac8"
      },
      "execution_count": 63,
      "outputs": [
        {
          "output_type": "display_data",
          "data": {
            "text/plain": [
              "<Figure size 576x396 with 1 Axes>"
            ],
            "image/png": "[encoded data removed]"
          },
          "metadata": {}
        }
      ]
    },
    {
      "cell_type": "code",
      "source": [],
      "metadata": {
        "colab": {
          "base_uri": "https://localhost:8080/",
          "height": 35
        },
        "id": "643awggC1CN9",
        "outputId": "56fedc40-ee68-45b8-ff25-a723bc9bf090"
      },
      "execution_count": 62,
      "outputs": [
        {
          "output_type": "display_data",
          "data": {
            "text/plain": [
              "<Figure size 576x396 with 0 Axes>"
            ]
          },
          "metadata": {}
        }
      ]
    }
  ]
}